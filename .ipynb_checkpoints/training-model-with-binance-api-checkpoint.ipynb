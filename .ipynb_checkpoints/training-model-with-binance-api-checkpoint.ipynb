{
 "cells": [
  {
   "cell_type": "code",
   "execution_count": 2,
   "metadata": {
    "scrolled": false
   },
   "outputs": [],
   "source": [
    "import pandas as pd\n",
    "import numpy as np\n",
    "import matplotlib.pyplot as plt\n",
    "from sklearn.metrics import r2_score\n",
    "from sklearn.metrics import mean_squared_error\n",
    "from sklearn.metrics import mean_absolute_error\n",
    "from binance.client import Client"
   ]
  },
  {
   "cell_type": "markdown",
   "metadata": {},
   "source": [
    "# Authentication"
   ]
  },
  {
   "cell_type": "code",
   "execution_count": 3,
   "metadata": {},
   "outputs": [],
   "source": [
    "API_KEY = ''\n",
    "SECRET_KEY = ''\n",
    "client = Client(API_KEY, SECRET_KEY) "
   ]
  },
  {
   "cell_type": "markdown",
   "metadata": {},
   "source": [
    "# Other Endpoints\n",
    "\n",
    "There are some other endpoints that may need some consideration. These include, general, wallet, spot and margin trading endpoints. Keep an eye on these but don't get too caught up as there is a little too much. Maybe review these when the trading bot is near completion."
   ]
  },
  {
   "cell_type": "markdown",
   "metadata": {},
   "source": [
    "# Market Endpoint\n",
    "\n",
    "Right now our model works fine with orderbook, ticker and other endpoints. Can keep an eye on these but seems unnecessary."
   ]
  },
  {
   "cell_type": "code",
   "execution_count": 4,
   "metadata": {},
   "outputs": [],
   "source": [
    "#get kline data\n",
    "klines = client.get_historical_klines(\"BTCUSDT\", Client.KLINE_INTERVAL_1HOUR, \"1 Jan, 2017\", \"31 Dec, 2020\")"
   ]
  },
  {
   "cell_type": "code",
   "execution_count": 5,
   "metadata": {},
   "outputs": [],
   "source": [
    "#put in dataframe\n",
    "kline_df = pd.DataFrame(klines)\n",
    "#rename columns\n",
    "kline_df.columns = ['Open time','Open','High','Low','Close','Volume','Close time','Quote asset volume','Number of trades','Taker buy base asset volume','Taker buy quote asset volume','Ignore']\n",
    "\n",
    "#Use .shift to predict 1 hour ahead\n",
    "kline_df['Future Open'] = kline_df['Open']\n",
    "kline_df['Future High'] = kline_df['High']\n",
    "kline_df['Future Low'] = kline_df['Low']\n",
    "kline_df['Future Close'] = kline_df['Close']\n",
    "\n",
    "kline_df['Future Open'] = kline_df['Future Open'].shift(-1)\n",
    "kline_df['Future High'] = kline_df['Future High'].shift(-1)\n",
    "kline_df['Future Low'] = kline_df['Future Low'].shift(-1)\n",
    "kline_df['Future Close'] = kline_df['Future Close'].shift(-1)\n",
    "\n",
    "#drop null value after shifting and drop unnecessary columns\n",
    "kline_df.dropna(inplace=True)\n",
    "kline_df.drop(['Ignore','Open time','Close time'], inplace=True, axis=1)\n",
    "\n",
    "#convert kline data to integer/float datatype\n",
    "numeric_columns = ['Open','High','Low','Close','Volume','Quote asset volume','Number of trades','Taker buy base asset volume','Taker buy quote asset volume','Future Open','Future High','Future Low','Future Close']\n",
    "kline_df[numeric_columns] = kline_df[numeric_columns].apply(pd.to_numeric,axis=1)"
   ]
  },
  {
   "cell_type": "code",
   "execution_count": 6,
   "metadata": {},
   "outputs": [],
   "source": [
    "#Repeat steps from above for kline test data\n",
    "klines_test = client.get_historical_klines(\"BTCUSDT\", Client.KLINE_INTERVAL_1HOUR, \"1 Jan, 2021\", \"31 Oct, 2021\")\n",
    "kline_test_df = pd.DataFrame(klines_test)\n",
    "kline_test_df.columns = ['Open time','Open','High','Low','Close','Volume','Close time','Quote asset volume','Number of trades','Taker buy base asset volume','Taker buy quote asset volume','Ignore']\n",
    "\n",
    "kline_test_df['Future Open'] = kline_test_df['Open']\n",
    "kline_test_df['Future High'] = kline_test_df['High']\n",
    "kline_test_df['Future Low'] = kline_test_df['Low']\n",
    "kline_test_df['Future Close'] = kline_test_df['Close']\n",
    "\n",
    "kline_test_df['Future Open'] = kline_test_df['Future Open'].shift(-1)\n",
    "kline_test_df['Future High'] = kline_test_df['Future High'].shift(-1)\n",
    "kline_test_df['Future Low'] = kline_test_df['Future Low'].shift(-1)\n",
    "kline_test_df['Future Close'] = kline_test_df['Future Close'].shift(-1)\n",
    "\n",
    "kline_test_df.dropna(inplace=True)\n",
    "kline_test_df.drop(['Ignore','Open time','Close time'], inplace=True, axis=1)\n",
    "kline_test_df[numeric_columns] = kline_test_df[numeric_columns].apply(pd.to_numeric,axis=1)"
   ]
  },
  {
   "cell_type": "markdown",
   "metadata": {},
   "source": [
    "## Train_Test_Split"
   ]
  },
  {
   "cell_type": "code",
   "execution_count": 7,
   "metadata": {},
   "outputs": [
    {
     "data": {
      "text/html": [
       "<div>\n",
       "<style scoped>\n",
       "    .dataframe tbody tr th:only-of-type {\n",
       "        vertical-align: middle;\n",
       "    }\n",
       "\n",
       "    .dataframe tbody tr th {\n",
       "        vertical-align: top;\n",
       "    }\n",
       "\n",
       "    .dataframe thead th {\n",
       "        text-align: right;\n",
       "    }\n",
       "</style>\n",
       "<table border=\"1\" class=\"dataframe\">\n",
       "  <thead>\n",
       "    <tr style=\"text-align: right;\">\n",
       "      <th></th>\n",
       "      <th>Open</th>\n",
       "      <th>High</th>\n",
       "      <th>Low</th>\n",
       "      <th>Close</th>\n",
       "      <th>Volume</th>\n",
       "      <th>Quote asset volume</th>\n",
       "      <th>Number of trades</th>\n",
       "      <th>Taker buy base asset volume</th>\n",
       "      <th>Taker buy quote asset volume</th>\n",
       "    </tr>\n",
       "  </thead>\n",
       "  <tbody>\n",
       "    <tr>\n",
       "      <th>0</th>\n",
       "      <td>4261.48</td>\n",
       "      <td>4313.62</td>\n",
       "      <td>4261.32</td>\n",
       "      <td>4308.83</td>\n",
       "      <td>47.181009</td>\n",
       "      <td>2.023661e+05</td>\n",
       "      <td>171.0</td>\n",
       "      <td>35.160503</td>\n",
       "      <td>1.509525e+05</td>\n",
       "    </tr>\n",
       "    <tr>\n",
       "      <th>1</th>\n",
       "      <td>4308.83</td>\n",
       "      <td>4328.69</td>\n",
       "      <td>4291.37</td>\n",
       "      <td>4315.32</td>\n",
       "      <td>23.234916</td>\n",
       "      <td>1.003048e+05</td>\n",
       "      <td>102.0</td>\n",
       "      <td>21.448071</td>\n",
       "      <td>9.260828e+04</td>\n",
       "    </tr>\n",
       "    <tr>\n",
       "      <th>2</th>\n",
       "      <td>4330.29</td>\n",
       "      <td>4345.45</td>\n",
       "      <td>4309.37</td>\n",
       "      <td>4324.35</td>\n",
       "      <td>7.229691</td>\n",
       "      <td>3.128231e+04</td>\n",
       "      <td>36.0</td>\n",
       "      <td>4.802861</td>\n",
       "      <td>2.079532e+04</td>\n",
       "    </tr>\n",
       "    <tr>\n",
       "      <th>3</th>\n",
       "      <td>4316.62</td>\n",
       "      <td>4349.99</td>\n",
       "      <td>4287.41</td>\n",
       "      <td>4349.99</td>\n",
       "      <td>4.443249</td>\n",
       "      <td>1.924106e+04</td>\n",
       "      <td>25.0</td>\n",
       "      <td>2.602292</td>\n",
       "      <td>1.129135e+04</td>\n",
       "    </tr>\n",
       "    <tr>\n",
       "      <th>4</th>\n",
       "      <td>4333.32</td>\n",
       "      <td>4377.85</td>\n",
       "      <td>4333.32</td>\n",
       "      <td>4360.69</td>\n",
       "      <td>0.972807</td>\n",
       "      <td>4.239504e+03</td>\n",
       "      <td>28.0</td>\n",
       "      <td>0.814655</td>\n",
       "      <td>3.552747e+03</td>\n",
       "    </tr>\n",
       "    <tr>\n",
       "      <th>...</th>\n",
       "      <td>...</td>\n",
       "      <td>...</td>\n",
       "      <td>...</td>\n",
       "      <td>...</td>\n",
       "      <td>...</td>\n",
       "      <td>...</td>\n",
       "      <td>...</td>\n",
       "      <td>...</td>\n",
       "      <td>...</td>\n",
       "    </tr>\n",
       "    <tr>\n",
       "      <th>29446</th>\n",
       "      <td>28510.86</td>\n",
       "      <td>28900.05</td>\n",
       "      <td>28444.00</td>\n",
       "      <td>28776.46</td>\n",
       "      <td>7242.879514</td>\n",
       "      <td>2.081010e+08</td>\n",
       "      <td>119364.0</td>\n",
       "      <td>4001.209384</td>\n",
       "      <td>1.149579e+08</td>\n",
       "    </tr>\n",
       "    <tr>\n",
       "      <th>29447</th>\n",
       "      <td>28776.45</td>\n",
       "      <td>28996.00</td>\n",
       "      <td>28603.24</td>\n",
       "      <td>28785.67</td>\n",
       "      <td>4271.327517</td>\n",
       "      <td>1.230356e+08</td>\n",
       "      <td>81707.0</td>\n",
       "      <td>2015.483662</td>\n",
       "      <td>5.807157e+07</td>\n",
       "    </tr>\n",
       "    <tr>\n",
       "      <th>29448</th>\n",
       "      <td>28785.67</td>\n",
       "      <td>28980.00</td>\n",
       "      <td>28534.70</td>\n",
       "      <td>28875.21</td>\n",
       "      <td>3551.040384</td>\n",
       "      <td>1.022468e+08</td>\n",
       "      <td>77627.0</td>\n",
       "      <td>1729.515881</td>\n",
       "      <td>4.981248e+07</td>\n",
       "    </tr>\n",
       "    <tr>\n",
       "      <th>29449</th>\n",
       "      <td>28875.21</td>\n",
       "      <td>28903.93</td>\n",
       "      <td>28571.84</td>\n",
       "      <td>28703.88</td>\n",
       "      <td>1915.683224</td>\n",
       "      <td>5.510670e+07</td>\n",
       "      <td>57210.0</td>\n",
       "      <td>899.666792</td>\n",
       "      <td>2.588750e+07</td>\n",
       "    </tr>\n",
       "    <tr>\n",
       "      <th>29450</th>\n",
       "      <td>28704.00</td>\n",
       "      <td>28911.52</td>\n",
       "      <td>28630.00</td>\n",
       "      <td>28875.54</td>\n",
       "      <td>2183.214308</td>\n",
       "      <td>6.287305e+07</td>\n",
       "      <td>46795.0</td>\n",
       "      <td>1213.583525</td>\n",
       "      <td>3.495626e+07</td>\n",
       "    </tr>\n",
       "  </tbody>\n",
       "</table>\n",
       "<p>29451 rows × 9 columns</p>\n",
       "</div>"
      ],
      "text/plain": [
       "           Open      High       Low     Close       Volume  \\\n",
       "0       4261.48   4313.62   4261.32   4308.83    47.181009   \n",
       "1       4308.83   4328.69   4291.37   4315.32    23.234916   \n",
       "2       4330.29   4345.45   4309.37   4324.35     7.229691   \n",
       "3       4316.62   4349.99   4287.41   4349.99     4.443249   \n",
       "4       4333.32   4377.85   4333.32   4360.69     0.972807   \n",
       "...         ...       ...       ...       ...          ...   \n",
       "29446  28510.86  28900.05  28444.00  28776.46  7242.879514   \n",
       "29447  28776.45  28996.00  28603.24  28785.67  4271.327517   \n",
       "29448  28785.67  28980.00  28534.70  28875.21  3551.040384   \n",
       "29449  28875.21  28903.93  28571.84  28703.88  1915.683224   \n",
       "29450  28704.00  28911.52  28630.00  28875.54  2183.214308   \n",
       "\n",
       "       Quote asset volume  Number of trades  Taker buy base asset volume  \\\n",
       "0            2.023661e+05             171.0                    35.160503   \n",
       "1            1.003048e+05             102.0                    21.448071   \n",
       "2            3.128231e+04              36.0                     4.802861   \n",
       "3            1.924106e+04              25.0                     2.602292   \n",
       "4            4.239504e+03              28.0                     0.814655   \n",
       "...                   ...               ...                          ...   \n",
       "29446        2.081010e+08          119364.0                  4001.209384   \n",
       "29447        1.230356e+08           81707.0                  2015.483662   \n",
       "29448        1.022468e+08           77627.0                  1729.515881   \n",
       "29449        5.510670e+07           57210.0                   899.666792   \n",
       "29450        6.287305e+07           46795.0                  1213.583525   \n",
       "\n",
       "       Taker buy quote asset volume  \n",
       "0                      1.509525e+05  \n",
       "1                      9.260828e+04  \n",
       "2                      2.079532e+04  \n",
       "3                      1.129135e+04  \n",
       "4                      3.552747e+03  \n",
       "...                             ...  \n",
       "29446                  1.149579e+08  \n",
       "29447                  5.807157e+07  \n",
       "29448                  4.981248e+07  \n",
       "29449                  2.588750e+07  \n",
       "29450                  3.495626e+07  \n",
       "\n",
       "[29451 rows x 9 columns]"
      ]
     },
     "execution_count": 7,
     "metadata": {},
     "output_type": "execute_result"
    }
   ],
   "source": [
    "X_train = kline_df.iloc[0:,0:9]\n",
    "X_train"
   ]
  },
  {
   "cell_type": "code",
   "execution_count": 8,
   "metadata": {},
   "outputs": [
    {
     "data": {
      "text/plain": [
       "0         4315.32\n",
       "1         4324.35\n",
       "2         4349.99\n",
       "3         4360.69\n",
       "4         4444.00\n",
       "           ...   \n",
       "29446    28785.67\n",
       "29447    28875.21\n",
       "29448    28703.88\n",
       "29449    28875.54\n",
       "29450    29120.51\n",
       "Name: Future Close, Length: 29451, dtype: float64"
      ]
     },
     "execution_count": 8,
     "metadata": {},
     "output_type": "execute_result"
    }
   ],
   "source": [
    "y_train = kline_df.iloc[:, -1]\n",
    "y_train"
   ]
  },
  {
   "cell_type": "code",
   "execution_count": 9,
   "metadata": {},
   "outputs": [
    {
     "data": {
      "text/html": [
       "<div>\n",
       "<style scoped>\n",
       "    .dataframe tbody tr th:only-of-type {\n",
       "        vertical-align: middle;\n",
       "    }\n",
       "\n",
       "    .dataframe tbody tr th {\n",
       "        vertical-align: top;\n",
       "    }\n",
       "\n",
       "    .dataframe thead th {\n",
       "        text-align: right;\n",
       "    }\n",
       "</style>\n",
       "<table border=\"1\" class=\"dataframe\">\n",
       "  <thead>\n",
       "    <tr style=\"text-align: right;\">\n",
       "      <th></th>\n",
       "      <th>Open</th>\n",
       "      <th>High</th>\n",
       "      <th>Low</th>\n",
       "      <th>Close</th>\n",
       "      <th>Volume</th>\n",
       "      <th>Quote asset volume</th>\n",
       "      <th>Number of trades</th>\n",
       "      <th>Taker buy base asset volume</th>\n",
       "      <th>Taker buy quote asset volume</th>\n",
       "    </tr>\n",
       "  </thead>\n",
       "  <tbody>\n",
       "    <tr>\n",
       "      <th>0</th>\n",
       "      <td>28923.63</td>\n",
       "      <td>29031.34</td>\n",
       "      <td>28690.17</td>\n",
       "      <td>28995.13</td>\n",
       "      <td>2311.811445</td>\n",
       "      <td>6.676883e+07</td>\n",
       "      <td>58389.0</td>\n",
       "      <td>1215.359238</td>\n",
       "      <td>3.510354e+07</td>\n",
       "    </tr>\n",
       "    <tr>\n",
       "      <th>1</th>\n",
       "      <td>28995.13</td>\n",
       "      <td>29470.00</td>\n",
       "      <td>28960.35</td>\n",
       "      <td>29409.99</td>\n",
       "      <td>5403.068471</td>\n",
       "      <td>1.583578e+08</td>\n",
       "      <td>103896.0</td>\n",
       "      <td>3160.041701</td>\n",
       "      <td>9.261399e+07</td>\n",
       "    </tr>\n",
       "    <tr>\n",
       "      <th>2</th>\n",
       "      <td>29410.00</td>\n",
       "      <td>29465.26</td>\n",
       "      <td>29120.03</td>\n",
       "      <td>29194.65</td>\n",
       "      <td>2384.231560</td>\n",
       "      <td>6.984265e+07</td>\n",
       "      <td>57646.0</td>\n",
       "      <td>1203.433506</td>\n",
       "      <td>3.525275e+07</td>\n",
       "    </tr>\n",
       "    <tr>\n",
       "      <th>3</th>\n",
       "      <td>29195.25</td>\n",
       "      <td>29367.00</td>\n",
       "      <td>29150.02</td>\n",
       "      <td>29278.40</td>\n",
       "      <td>1461.345077</td>\n",
       "      <td>4.276078e+07</td>\n",
       "      <td>42510.0</td>\n",
       "      <td>775.915666</td>\n",
       "      <td>2.270555e+07</td>\n",
       "    </tr>\n",
       "    <tr>\n",
       "      <th>4</th>\n",
       "      <td>29278.41</td>\n",
       "      <td>29395.00</td>\n",
       "      <td>29029.40</td>\n",
       "      <td>29220.31</td>\n",
       "      <td>2038.046803</td>\n",
       "      <td>5.961464e+07</td>\n",
       "      <td>55414.0</td>\n",
       "      <td>1003.342834</td>\n",
       "      <td>2.934638e+07</td>\n",
       "    </tr>\n",
       "    <tr>\n",
       "      <th>...</th>\n",
       "      <td>...</td>\n",
       "      <td>...</td>\n",
       "      <td>...</td>\n",
       "      <td>...</td>\n",
       "      <td>...</td>\n",
       "      <td>...</td>\n",
       "      <td>...</td>\n",
       "      <td>...</td>\n",
       "      <td>...</td>\n",
       "    </tr>\n",
       "    <tr>\n",
       "      <th>6853</th>\n",
       "      <td>58300.03</td>\n",
       "      <td>58532.54</td>\n",
       "      <td>58075.13</td>\n",
       "      <td>58210.46</td>\n",
       "      <td>2004.084616</td>\n",
       "      <td>1.168147e+08</td>\n",
       "      <td>64158.0</td>\n",
       "      <td>1084.455616</td>\n",
       "      <td>6.321684e+07</td>\n",
       "    </tr>\n",
       "    <tr>\n",
       "      <th>6854</th>\n",
       "      <td>58210.46</td>\n",
       "      <td>58260.76</td>\n",
       "      <td>58023.64</td>\n",
       "      <td>58065.99</td>\n",
       "      <td>945.022300</td>\n",
       "      <td>5.493669e+07</td>\n",
       "      <td>31519.0</td>\n",
       "      <td>458.172670</td>\n",
       "      <td>2.663427e+07</td>\n",
       "    </tr>\n",
       "    <tr>\n",
       "      <th>6855</th>\n",
       "      <td>58065.99</td>\n",
       "      <td>58169.99</td>\n",
       "      <td>57678.06</td>\n",
       "      <td>57986.55</td>\n",
       "      <td>1726.702190</td>\n",
       "      <td>1.000249e+08</td>\n",
       "      <td>52028.0</td>\n",
       "      <td>867.359610</td>\n",
       "      <td>5.024628e+07</td>\n",
       "    </tr>\n",
       "    <tr>\n",
       "      <th>6856</th>\n",
       "      <td>57986.54</td>\n",
       "      <td>58113.38</td>\n",
       "      <td>57800.00</td>\n",
       "      <td>57965.01</td>\n",
       "      <td>1290.498850</td>\n",
       "      <td>7.480301e+07</td>\n",
       "      <td>38821.0</td>\n",
       "      <td>734.903250</td>\n",
       "      <td>4.259771e+07</td>\n",
       "    </tr>\n",
       "    <tr>\n",
       "      <th>6857</th>\n",
       "      <td>57965.01</td>\n",
       "      <td>58069.20</td>\n",
       "      <td>57480.76</td>\n",
       "      <td>57673.39</td>\n",
       "      <td>1612.546660</td>\n",
       "      <td>9.324664e+07</td>\n",
       "      <td>52746.0</td>\n",
       "      <td>756.009440</td>\n",
       "      <td>4.371994e+07</td>\n",
       "    </tr>\n",
       "  </tbody>\n",
       "</table>\n",
       "<p>6858 rows × 9 columns</p>\n",
       "</div>"
      ],
      "text/plain": [
       "          Open      High       Low     Close       Volume  Quote asset volume  \\\n",
       "0     28923.63  29031.34  28690.17  28995.13  2311.811445        6.676883e+07   \n",
       "1     28995.13  29470.00  28960.35  29409.99  5403.068471        1.583578e+08   \n",
       "2     29410.00  29465.26  29120.03  29194.65  2384.231560        6.984265e+07   \n",
       "3     29195.25  29367.00  29150.02  29278.40  1461.345077        4.276078e+07   \n",
       "4     29278.41  29395.00  29029.40  29220.31  2038.046803        5.961464e+07   \n",
       "...        ...       ...       ...       ...          ...                 ...   \n",
       "6853  58300.03  58532.54  58075.13  58210.46  2004.084616        1.168147e+08   \n",
       "6854  58210.46  58260.76  58023.64  58065.99   945.022300        5.493669e+07   \n",
       "6855  58065.99  58169.99  57678.06  57986.55  1726.702190        1.000249e+08   \n",
       "6856  57986.54  58113.38  57800.00  57965.01  1290.498850        7.480301e+07   \n",
       "6857  57965.01  58069.20  57480.76  57673.39  1612.546660        9.324664e+07   \n",
       "\n",
       "      Number of trades  Taker buy base asset volume  \\\n",
       "0              58389.0                  1215.359238   \n",
       "1             103896.0                  3160.041701   \n",
       "2              57646.0                  1203.433506   \n",
       "3              42510.0                   775.915666   \n",
       "4              55414.0                  1003.342834   \n",
       "...                ...                          ...   \n",
       "6853           64158.0                  1084.455616   \n",
       "6854           31519.0                   458.172670   \n",
       "6855           52028.0                   867.359610   \n",
       "6856           38821.0                   734.903250   \n",
       "6857           52746.0                   756.009440   \n",
       "\n",
       "      Taker buy quote asset volume  \n",
       "0                     3.510354e+07  \n",
       "1                     9.261399e+07  \n",
       "2                     3.525275e+07  \n",
       "3                     2.270555e+07  \n",
       "4                     2.934638e+07  \n",
       "...                            ...  \n",
       "6853                  6.321684e+07  \n",
       "6854                  2.663427e+07  \n",
       "6855                  5.024628e+07  \n",
       "6856                  4.259771e+07  \n",
       "6857                  4.371994e+07  \n",
       "\n",
       "[6858 rows x 9 columns]"
      ]
     },
     "execution_count": 9,
     "metadata": {},
     "output_type": "execute_result"
    }
   ],
   "source": [
    "X_test = kline_test_df.iloc[0:,0:9]\n",
    "X_test"
   ]
  },
  {
   "cell_type": "code",
   "execution_count": 10,
   "metadata": {},
   "outputs": [
    {
     "data": {
      "text/plain": [
       "0       29409.99\n",
       "1       29194.65\n",
       "2       29278.40\n",
       "3       29220.31\n",
       "4       29187.01\n",
       "          ...   \n",
       "6853    58065.99\n",
       "6854    57986.55\n",
       "6855    57965.01\n",
       "6856    57673.39\n",
       "6857    57767.97\n",
       "Name: Future Close, Length: 6858, dtype: float64"
      ]
     },
     "execution_count": 10,
     "metadata": {},
     "output_type": "execute_result"
    }
   ],
   "source": [
    "y_test = kline_test_df.iloc[:, -1]\n",
    "y_test"
   ]
  },
  {
   "cell_type": "markdown",
   "metadata": {},
   "source": [
    "## Scale Down Data"
   ]
  },
  {
   "cell_type": "code",
   "execution_count": 11,
   "metadata": {},
   "outputs": [
    {
     "data": {
      "text/plain": [
       "MinMaxScaler()"
      ]
     },
     "execution_count": 11,
     "metadata": {},
     "output_type": "execute_result"
    }
   ],
   "source": [
    "from sklearn.preprocessing import MinMaxScaler\n",
    "scalar = MinMaxScaler()\n",
    "scalar.fit(X_train)"
   ]
  },
  {
   "cell_type": "code",
   "execution_count": 12,
   "metadata": {},
   "outputs": [],
   "source": [
    "X_train_normal = scalar.transform(X_train)\n",
    "X_test_normal = scalar.transform(X_test)"
   ]
  },
  {
   "cell_type": "markdown",
   "metadata": {},
   "source": [
    "## Apply Neural Network"
   ]
  },
  {
   "cell_type": "code",
   "execution_count": 13,
   "metadata": {},
   "outputs": [
    {
     "name": "stderr",
     "output_type": "stream",
     "text": [
      "D:\\Downloads\\Anaconda\\lib\\site-packages\\sklearn\\neural_network\\_multilayer_perceptron.py:582: ConvergenceWarning: Stochastic Optimizer: Maximum iterations (200) reached and the optimization hasn't converged yet.\n",
      "  warnings.warn(\n"
     ]
    },
    {
     "data": {
      "text/plain": [
       "MLPRegressor(hidden_layer_sizes=256, learning_rate='adaptive')"
      ]
     },
     "execution_count": 13,
     "metadata": {},
     "output_type": "execute_result"
    }
   ],
   "source": [
    "from sklearn.neural_network import MLPRegressor\n",
    "nn = MLPRegressor(hidden_layer_sizes=(256),activation= 'relu', solver= 'adam',learning_rate='adaptive')\n",
    "\n",
    "nn.fit(X_train_normal, y_train)"
   ]
  },
  {
   "cell_type": "code",
   "execution_count": 14,
   "metadata": {},
   "outputs": [
    {
     "name": "stdout",
     "output_type": "stream",
     "text": [
      "MSE:  10208.156566771557\n",
      "RMSE:  101.03542233678027\n",
      "MAE:  51.228167121651424\n",
      "r2-squared:  0.9992458910877651\n"
     ]
    }
   ],
   "source": [
    "y_train_pred = nn.predict(X_train_normal)\n",
    "print(\"MSE: \", mean_squared_error(y_train, y_train_pred))\n",
    "print(\"RMSE: \", np.sqrt(mean_squared_error(y_train, y_train_pred)))\n",
    "print(\"MAE: \", mean_absolute_error(y_train, y_train_pred))\n",
    "print(\"r2-squared: \", r2_score(y_train, y_train_pred))"
   ]
  },
  {
   "cell_type": "code",
   "execution_count": 15,
   "metadata": {},
   "outputs": [
    {
     "name": "stdout",
     "output_type": "stream",
     "text": [
      "MSE:  1447536.7616535155\n",
      "RMSE:  1203.136219076425\n",
      "MAE:  975.0110940640935\n",
      "r2-squared:  0.9825248609380677\n"
     ]
    }
   ],
   "source": [
    "y_test_pred = nn.predict(X_test_normal)\n",
    "print(\"MSE: \", mean_squared_error(y_test, y_test_pred))   \n",
    "print(\"RMSE: \", np.sqrt(mean_squared_error(y_test, y_test_pred)))\n",
    "print(\"MAE: \", mean_absolute_error(y_test, y_test_pred))\n",
    "print(\"r2-squared: \", r2_score(y_test, y_test_pred))"
   ]
  },
  {
   "cell_type": "code",
   "execution_count": 16,
   "metadata": {
    "scrolled": false
   },
   "outputs": [
    {
     "data": {
      "text/plain": [
       "[<matplotlib.lines.Line2D at 0x1eed25e1580>]"
      ]
     },
     "execution_count": 16,
     "metadata": {},
     "output_type": "execute_result"
    },
    {
     "data": {
      "image/png": "[encoded data removed]",
      "text/plain": [
       "<Figure size 1008x576 with 1 Axes>"
      ]
     },
     "metadata": {
      "needs_background": "light"
     },
     "output_type": "display_data"
    }
   ],
   "source": [
    "plt.figure(figsize=(14,8))\n",
    "plt.plot(y_test_pred)\n",
    "plt.plot(y_test)"
   ]
  },
  {
   "cell_type": "markdown",
   "metadata": {},
   "source": [
    "Blue line represents predictions and orange line represents actual prices. This graph may make our neural network look accurate but upon close examination, it was found that the model's predictions were lagging behind. If the price of a coin rose by 5 USD in a 30 minute time interval, we would only be able to predict this accurately at the end of that interval."
   ]
  }
 ],
 "metadata": {
  "kernelspec": {
   "display_name": "Python 3",
   "language": "python",
   "name": "python3"
  },
  "language_info": {
   "codemirror_mode": {
    "name": "ipython",
    "version": 3
   },
   "file_extension": ".py",
   "mimetype": "text/x-python",
   "name": "python",
   "nbconvert_exporter": "python",
   "pygments_lexer": "ipython3",
   "version": "3.8.5"
  }
 },
 "nbformat": 4,
 "nbformat_minor": 4
}
